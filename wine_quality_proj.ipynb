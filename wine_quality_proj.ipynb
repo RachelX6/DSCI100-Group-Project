{
 "cells": [
  {
   "cell_type": "markdown",
   "id": "c6a1d544-74cb-472b-b8a8-9d24221d9e44",
   "metadata": {},
   "source": [
    "## Group 42 Project Proposal : The Classification of Wine Quality\n",
    "\n",
    "### Introduction\n",
    "\n",
    "White wine is one of the oldest and most cherished alcoholic beverages known to humanity. It is not merely a drink; it is a wonderful interaction between flavors and aromas, a product of nature's alchemy and human craftsmanship that is commonly enjoyed before a meal, with dessert, or as a refreshing drink between meals. White wine is known for its light and refreshing taste, which sets it apart from many of its red wine counterparts. Due to its acidity and aroma, white wine is also useful in cooking, helping to soften meat and enhance the flavors of various dishes. The essence of white wine lies in its quality, a multifaceted concept that encompasses various chemical components and sensory attributes. \n",
    "\n",
    "This study delves into the complexity of wine quality, using a systematic approach to assess white wines on a scale of 1 to 10.  Our research focuses on five fundamental chemical properties: pH, density, alcohol content, residual sugar content, and citric acid.  As each of these elements plays a crucial role in shaping the taste, aroma, and overall character of the wine, we would like to build a model to predict the score of wine quality by the five properties.\n",
    "\n",
    "This project uses the Wine Quality dataset of the white variant of the Portuguese \"Vinho Verde\" wine. This dataset contains 4898 observations of white wine with 12 attributes for each observation, however, only 6 of the attributes will be used for this classification project. This particular dataset contains no missing values.\n",
    "\n",
    "\n",
    "#### Research question: Can a wine’s quality be accurately predicted on a scale of 1 to 10 based on its pH, density, alcohol content, residual sugar content, and citric acid?\n",
    "\n",
    "To begin thinking about how to approach this question, we must first take a look at the raw data set. We will first load in a few useful packages for loading and working with our data set."
   ]
  },
  {
   "cell_type": "code",
   "execution_count": 3,
   "id": "4076b2a2-28ef-4e24-ad6b-5266f5e11daa",
   "metadata": {
    "tags": []
   },
   "outputs": [
    {
     "name": "stderr",
     "output_type": "stream",
     "text": [
      "── \u001b[1mAttaching packages\u001b[22m ─────────────────────────────────────── tidyverse 1.3.2 ──\n",
      "\u001b[32m✔\u001b[39m \u001b[34mggplot2\u001b[39m 3.4.2     \u001b[32m✔\u001b[39m \u001b[34mpurrr  \u001b[39m 1.0.1\n",
      "\u001b[32m✔\u001b[39m \u001b[34mtibble \u001b[39m 3.2.1     \u001b[32m✔\u001b[39m \u001b[34mdplyr  \u001b[39m 1.1.1\n",
      "\u001b[32m✔\u001b[39m \u001b[34mtidyr  \u001b[39m 1.3.0     \u001b[32m✔\u001b[39m \u001b[34mstringr\u001b[39m 1.5.0\n",
      "\u001b[32m✔\u001b[39m \u001b[34mreadr  \u001b[39m 2.1.3     \u001b[32m✔\u001b[39m \u001b[34mforcats\u001b[39m 0.5.2\n",
      "── \u001b[1mConflicts\u001b[22m ────────────────────────────────────────── tidyverse_conflicts() ──\n",
      "\u001b[31m✖\u001b[39m \u001b[34mdplyr\u001b[39m::\u001b[32mfilter()\u001b[39m masks \u001b[34mstats\u001b[39m::filter()\n",
      "\u001b[31m✖\u001b[39m \u001b[34mdplyr\u001b[39m::\u001b[32mlag()\u001b[39m    masks \u001b[34mstats\u001b[39m::lag()\n",
      "── \u001b[1mAttaching packages\u001b[22m ────────────────────────────────────── tidymodels 1.0.0 ──\n",
      "\n",
      "\u001b[32m✔\u001b[39m \u001b[34mbroom       \u001b[39m 1.0.2     \u001b[32m✔\u001b[39m \u001b[34mrsample     \u001b[39m 1.1.1\n",
      "\u001b[32m✔\u001b[39m \u001b[34mdials       \u001b[39m 1.1.0     \u001b[32m✔\u001b[39m \u001b[34mtune        \u001b[39m 1.0.1\n",
      "\u001b[32m✔\u001b[39m \u001b[34minfer       \u001b[39m 1.0.4     \u001b[32m✔\u001b[39m \u001b[34mworkflows   \u001b[39m 1.1.2\n",
      "\u001b[32m✔\u001b[39m \u001b[34mmodeldata   \u001b[39m 1.0.1     \u001b[32m✔\u001b[39m \u001b[34mworkflowsets\u001b[39m 1.0.0\n",
      "\u001b[32m✔\u001b[39m \u001b[34mparsnip     \u001b[39m 1.0.3     \u001b[32m✔\u001b[39m \u001b[34myardstick   \u001b[39m 1.1.0\n",
      "\u001b[32m✔\u001b[39m \u001b[34mrecipes     \u001b[39m 1.0.4     \n",
      "\n",
      "── \u001b[1mConflicts\u001b[22m ───────────────────────────────────────── tidymodels_conflicts() ──\n",
      "\u001b[31m✖\u001b[39m \u001b[34mscales\u001b[39m::\u001b[32mdiscard()\u001b[39m masks \u001b[34mpurrr\u001b[39m::discard()\n",
      "\u001b[31m✖\u001b[39m \u001b[34mdplyr\u001b[39m::\u001b[32mfilter()\u001b[39m   masks \u001b[34mstats\u001b[39m::filter()\n",
      "\u001b[31m✖\u001b[39m \u001b[34mrecipes\u001b[39m::\u001b[32mfixed()\u001b[39m  masks \u001b[34mstringr\u001b[39m::fixed()\n",
      "\u001b[31m✖\u001b[39m \u001b[34mdplyr\u001b[39m::\u001b[32mlag()\u001b[39m      masks \u001b[34mstats\u001b[39m::lag()\n",
      "\u001b[31m✖\u001b[39m \u001b[34myardstick\u001b[39m::\u001b[32mspec()\u001b[39m masks \u001b[34mreadr\u001b[39m::spec()\n",
      "\u001b[31m✖\u001b[39m \u001b[34mrecipes\u001b[39m::\u001b[32mstep()\u001b[39m   masks \u001b[34mstats\u001b[39m::step()\n",
      "\u001b[34m•\u001b[39m Use suppressPackageStartupMessages() to eliminate package startup messages\n",
      "\n"
     ]
    }
   ],
   "source": [
    "#load library\n",
    "library(tidyverse)\n",
    "library(repr)\n",
    "library(tidymodels)\n",
    "options(repr.matrix.max.rows = 8)"
   ]
  },
  {
   "cell_type": "markdown",
   "id": "42a32292-0d19-43d0-9375-8f206b6fc4f1",
   "metadata": {},
   "source": [
    "### 1. Read Data\n",
    "Before we begin working with the data, we must load it into R from the web. The url for this dataset is https://archive.ics.uci.edu/static/public/186/wine+quality.zip. Note that this is a zip file, and so we must unzip this file to access the .csv file within."
   ]
  },
  {
   "cell_type": "code",
   "execution_count": 4,
   "id": "7241ac45-daeb-491f-b9c2-2cc892457518",
   "metadata": {
    "tags": []
   },
   "outputs": [
    {
     "name": "stderr",
     "output_type": "stream",
     "text": [
      "Warning message in dir.create(\"data/\"):\n",
      "“'data' already exists”\n"
     ]
    }
   ],
   "source": [
    "dir.create(\"data/\")"
   ]
  },
  {
   "cell_type": "code",
   "execution_count": 5,
   "id": "70c93271-f813-47b4-b084-7bd4177a5de5",
   "metadata": {
    "tags": []
   },
   "outputs": [
    {
     "name": "stderr",
     "output_type": "stream",
     "text": [
      "\u001b[1mRows: \u001b[22m\u001b[34m4898\u001b[39m \u001b[1mColumns: \u001b[22m\u001b[34m12\u001b[39m\n",
      "\u001b[36m──\u001b[39m \u001b[1mColumn specification\u001b[22m \u001b[36m────────────────────────────────────────────────────────\u001b[39m\n",
      "\u001b[1mDelimiter:\u001b[22m \";\"\n",
      "\u001b[32mdbl\u001b[39m (12): fixed acidity, volatile acidity, citric acid, residual sugar, chlo...\n",
      "\n",
      "\u001b[36mℹ\u001b[39m Use `spec()` to retrieve the full column specification for this data.\n",
      "\u001b[36mℹ\u001b[39m Specify the column types or set `show_col_types = FALSE` to quiet this message.\n"
     ]
    }
   ],
   "source": [
    "url <- \"https://archive.ics.uci.edu/static/public/186/wine+quality.zip\" # Url for the dataset's zip file, containing white and red wine data.\n",
    "\n",
    "download.file(url, destfile = \"data/wine_quality.zip\")\n",
    "unzip(\"data/wine_quality.zip\", exdir = \"data/\") # Unzipping the zipped wine quality file.\n",
    "white_wine_data <- read_delim(\"data/winequality-white.csv\", delim = \";\") |>  # Selecting the white wine data that will be used for this project.\n",
    "                   drop_na()"
   ]
  },
  {
   "cell_type": "markdown",
   "id": "71239fba-f621-4c18-8e52-3b467ac2f474",
   "metadata": {},
   "source": [
    "### 2. Wrangling and Cleaning"
   ]
  },
  {
   "cell_type": "code",
   "execution_count": 6,
   "id": "796c5004-ad70-4d4a-8c25-7debe0ec105c",
   "metadata": {
    "tags": []
   },
   "outputs": [
    {
     "data": {
      "text/html": [
       "'Table 1. Glimpse of the White Wine Data'"
      ],
      "text/latex": [
       "'Table 1. Glimpse of the White Wine Data'"
      ],
      "text/markdown": [
       "'Table 1. Glimpse of the White Wine Data'"
      ],
      "text/plain": [
       "[1] \"Table 1. Glimpse of the White Wine Data\""
      ]
     },
     "metadata": {},
     "output_type": "display_data"
    },
    {
     "data": {
      "text/html": [
       "<table class=\"dataframe\">\n",
       "<caption>A tibble: 5 × 12</caption>\n",
       "<thead>\n",
       "\t<tr><th scope=col>fixed_acidity</th><th scope=col>volatile_acidity</th><th scope=col>citric_acid</th><th scope=col>residual_sugar</th><th scope=col>chlorides</th><th scope=col>free_sulfur_dioxide</th><th scope=col>total_sulfur_dioxide</th><th scope=col>density</th><th scope=col>pH</th><th scope=col>sulphates</th><th scope=col>alcohol</th><th scope=col>quality</th></tr>\n",
       "\t<tr><th scope=col>&lt;dbl&gt;</th><th scope=col>&lt;dbl&gt;</th><th scope=col>&lt;dbl&gt;</th><th scope=col>&lt;dbl&gt;</th><th scope=col>&lt;dbl&gt;</th><th scope=col>&lt;dbl&gt;</th><th scope=col>&lt;dbl&gt;</th><th scope=col>&lt;dbl&gt;</th><th scope=col>&lt;dbl&gt;</th><th scope=col>&lt;dbl&gt;</th><th scope=col>&lt;dbl&gt;</th><th scope=col>&lt;fct&gt;</th></tr>\n",
       "</thead>\n",
       "<tbody>\n",
       "\t<tr><td>7.0</td><td>0.27</td><td>0.36</td><td>20.7</td><td>0.045</td><td>45</td><td>170</td><td>1.0010</td><td>3.00</td><td>0.45</td><td> 8.8</td><td>6</td></tr>\n",
       "\t<tr><td>6.3</td><td>0.30</td><td>0.34</td><td> 1.6</td><td>0.049</td><td>14</td><td>132</td><td>0.9940</td><td>3.30</td><td>0.49</td><td> 9.5</td><td>6</td></tr>\n",
       "\t<tr><td>8.1</td><td>0.28</td><td>0.40</td><td> 6.9</td><td>0.050</td><td>30</td><td> 97</td><td>0.9951</td><td>3.26</td><td>0.44</td><td>10.1</td><td>6</td></tr>\n",
       "\t<tr><td>7.2</td><td>0.23</td><td>0.32</td><td> 8.5</td><td>0.058</td><td>47</td><td>186</td><td>0.9956</td><td>3.19</td><td>0.40</td><td> 9.9</td><td>6</td></tr>\n",
       "\t<tr><td>7.2</td><td>0.23</td><td>0.32</td><td> 8.5</td><td>0.058</td><td>47</td><td>186</td><td>0.9956</td><td>3.19</td><td>0.40</td><td> 9.9</td><td>6</td></tr>\n",
       "</tbody>\n",
       "</table>\n"
      ],
      "text/latex": [
       "A tibble: 5 × 12\n",
       "\\begin{tabular}{llllllllllll}\n",
       " fixed\\_acidity & volatile\\_acidity & citric\\_acid & residual\\_sugar & chlorides & free\\_sulfur\\_dioxide & total\\_sulfur\\_dioxide & density & pH & sulphates & alcohol & quality\\\\\n",
       " <dbl> & <dbl> & <dbl> & <dbl> & <dbl> & <dbl> & <dbl> & <dbl> & <dbl> & <dbl> & <dbl> & <fct>\\\\\n",
       "\\hline\n",
       "\t 7.0 & 0.27 & 0.36 & 20.7 & 0.045 & 45 & 170 & 1.0010 & 3.00 & 0.45 &  8.8 & 6\\\\\n",
       "\t 6.3 & 0.30 & 0.34 &  1.6 & 0.049 & 14 & 132 & 0.9940 & 3.30 & 0.49 &  9.5 & 6\\\\\n",
       "\t 8.1 & 0.28 & 0.40 &  6.9 & 0.050 & 30 &  97 & 0.9951 & 3.26 & 0.44 & 10.1 & 6\\\\\n",
       "\t 7.2 & 0.23 & 0.32 &  8.5 & 0.058 & 47 & 186 & 0.9956 & 3.19 & 0.40 &  9.9 & 6\\\\\n",
       "\t 7.2 & 0.23 & 0.32 &  8.5 & 0.058 & 47 & 186 & 0.9956 & 3.19 & 0.40 &  9.9 & 6\\\\\n",
       "\\end{tabular}\n"
      ],
      "text/markdown": [
       "\n",
       "A tibble: 5 × 12\n",
       "\n",
       "| fixed_acidity &lt;dbl&gt; | volatile_acidity &lt;dbl&gt; | citric_acid &lt;dbl&gt; | residual_sugar &lt;dbl&gt; | chlorides &lt;dbl&gt; | free_sulfur_dioxide &lt;dbl&gt; | total_sulfur_dioxide &lt;dbl&gt; | density &lt;dbl&gt; | pH &lt;dbl&gt; | sulphates &lt;dbl&gt; | alcohol &lt;dbl&gt; | quality &lt;fct&gt; |\n",
       "|---|---|---|---|---|---|---|---|---|---|---|---|\n",
       "| 7.0 | 0.27 | 0.36 | 20.7 | 0.045 | 45 | 170 | 1.0010 | 3.00 | 0.45 |  8.8 | 6 |\n",
       "| 6.3 | 0.30 | 0.34 |  1.6 | 0.049 | 14 | 132 | 0.9940 | 3.30 | 0.49 |  9.5 | 6 |\n",
       "| 8.1 | 0.28 | 0.40 |  6.9 | 0.050 | 30 |  97 | 0.9951 | 3.26 | 0.44 | 10.1 | 6 |\n",
       "| 7.2 | 0.23 | 0.32 |  8.5 | 0.058 | 47 | 186 | 0.9956 | 3.19 | 0.40 |  9.9 | 6 |\n",
       "| 7.2 | 0.23 | 0.32 |  8.5 | 0.058 | 47 | 186 | 0.9956 | 3.19 | 0.40 |  9.9 | 6 |\n",
       "\n"
      ],
      "text/plain": [
       "  fixed_acidity volatile_acidity citric_acid residual_sugar chlorides\n",
       "1 7.0           0.27             0.36        20.7           0.045    \n",
       "2 6.3           0.30             0.34         1.6           0.049    \n",
       "3 8.1           0.28             0.40         6.9           0.050    \n",
       "4 7.2           0.23             0.32         8.5           0.058    \n",
       "5 7.2           0.23             0.32         8.5           0.058    \n",
       "  free_sulfur_dioxide total_sulfur_dioxide density pH   sulphates alcohol\n",
       "1 45                  170                  1.0010  3.00 0.45       8.8   \n",
       "2 14                  132                  0.9940  3.30 0.49       9.5   \n",
       "3 30                   97                  0.9951  3.26 0.44      10.1   \n",
       "4 47                  186                  0.9956  3.19 0.40       9.9   \n",
       "5 47                  186                  0.9956  3.19 0.40       9.9   \n",
       "  quality\n",
       "1 6      \n",
       "2 6      \n",
       "3 6      \n",
       "4 6      \n",
       "5 6      "
      ]
     },
     "metadata": {},
     "output_type": "display_data"
    }
   ],
   "source": [
    "colnames(white_wine_data) <- c(\"fixed_acidity\", # Adjusting column names for cleanliness.\n",
    "              \"volatile_acidity\",\n",
    "              \"citric_acid\",\n",
    "              \"residual_sugar\",\n",
    "              \"chlorides\",\n",
    "              \"free_sulfur_dioxide\",\n",
    "              \"total_sulfur_dioxide\",\n",
    "              \"density\",\n",
    "              \"pH\",\n",
    "              \"sulphates\",\n",
    "              \"alcohol\",\n",
    "              \"quality\")\n",
    "\n",
    "white_wine_data <- white_wine_data |>      # Changing the column \"quality\" into factor\n",
    "    mutate(quality = as_factor(quality))\n",
    "\n",
    "paste(\"Table 1. Glimpse of the White Wine Data\")\n",
    "head(white_wine_data, n = 5)"
   ]
  },
  {
   "cell_type": "markdown",
   "id": "b10c59af-93fd-457d-aa5c-3982e7405586",
   "metadata": {},
   "source": [
    "Above is the first five rows of the cleaned data.\n",
    "A brief description of each column in the dataset is as follows:\n",
    "- `fixed_acidity` -> The mass of fixed acid in the wine (g(tartaric acid)/dm$^{3}$).\n",
    "- `volatile_acidity` -> The mass of volatile acid in the wine (g(acetic acid)/dm$^{3}$).\n",
    "- `citric_acid` -> The mass of citric acid in the wine (g/dm$^{3}$).\n",
    "- `residual_sugar` -> The mass of residual sugar in the wine (g/dm$^{3}$).\n",
    "- `chlorides` -> The mass of chlorides in the wine (g(sodium chloride)/dm$^{3}$).\n",
    "- `free_sulfur_dioxide` -> The mass of free sulfur dioxide in the wine (mg/dm$^{3}$).\n",
    "- `total_sulfur_dioxide` -> The mass of total sulfur dioxide in the wine (mg/dm$^{3}$).\n",
    "- `density` -> The overall density of the wine (g/cm$^{3}$).\n",
    "- `pH` -> The pH of the wine (1-14).\n",
    "- `sulphates` -> The mass of sulphates in the wine (g(potassium sulphate)/dm$^{3}$).\n",
    "- `alcohol` -> The volume % alcohol content of the wine.\n",
    "\n",
    "The last column, `quality`, is a rating on a scale from 1 to 10 of the wine's determined quality based on the given physicochemical factors."
   ]
  },
  {
   "cell_type": "code",
   "execution_count": null,
   "id": "05839677-38d2-40c5-b66c-45ee24282384",
   "metadata": {
    "tags": []
   },
   "outputs": [],
   "source": [
    "set.seed(1)\n",
    "# Creating the training and testing split of the data\n",
    "wine_split <- initial_split(white_wine_data, prop = .75, strata = quality)\n",
    "wine_train <- training(wine_split)\n",
    "wine_test <- testing(wine_split)"
   ]
  },
  {
   "cell_type": "markdown",
   "id": "0829a319-11f3-4b76-8a03-fa9874fc5885",
   "metadata": {
    "tags": []
   },
   "source": [
    "### 3. Summarizing the Data\n",
    "To summarize our training data, we \n",
    "1. count the number of observations for each quality of wine\n",
    "2. calculate the mean of each predictor\n",
    "3. calculate the mean of each predictor for each quality.\n",
    "\n",
    "Note: The missing values are ignored."
   ]
  },
  {
   "cell_type": "code",
   "execution_count": null,
   "id": "9619e33f-24b6-4a52-b747-64cda12dd7fa",
   "metadata": {
    "tags": []
   },
   "outputs": [],
   "source": [
    "# Count the number of observations\n",
    "wine_qual_counts <- wine_train |>\n",
    "            group_by(quality) |>\n",
    "            summarize(count = n())\n",
    "paste(\"Table 2. Wine Quality Count\")\n",
    "wine_qual_counts"
   ]
  },
  {
   "cell_type": "markdown",
   "id": "7c400213-52a7-42f6-b37c-24f87671f971",
   "metadata": {},
   "source": [
    "From the table we can see that only white wines of qualities 3 through 9 are present in the table, while there is a class imbalance in the dataset since it has many more counts of samples in classes 5 to 7 than others. Since we do not want the majority classes affect more in the classifier than the under represented ones, which will negatively affect the accuracy of the model, we consider quality 3 to 6 to be **Low** quality , and 7 to 9 represent **High** quality. "
   ]
  },
  {
   "cell_type": "code",
   "execution_count": null,
   "id": "981a1a3b-0299-4a1f-8dfd-8a9847fbb25e",
   "metadata": {
    "tags": []
   },
   "outputs": [],
   "source": [
    "# Recode the quality column\n",
    "white_wine_data <- white_wine_data |> \n",
    "    mutate(quality = recode(quality, \"3\" = \"Low\", \"4\" = \"Low\", \"5\" = \"Low\", \"6\" = \"Low\", \n",
    "                            \"7\" = \"High\", \"8\" = \"High\", \"9\" = \"High\"))   \n",
    "paste(\"Table 3. Glimpse of the White Wine Data with Low and High Quality\")\n",
    "head(white_wine_data, n = 5)"
   ]
  },
  {
   "cell_type": "markdown",
   "id": "eb2b6e0f-14ea-40ba-9fa0-247d714f1429",
   "metadata": {
    "tags": []
   },
   "source": [
    "##### Then, we used the new cleaned dataset to create training and testing data, and summarize again."
   ]
  },
  {
   "cell_type": "code",
   "execution_count": null,
   "id": "b407c547-4f4d-4731-900d-3deffa07b1f1",
   "metadata": {
    "tags": []
   },
   "outputs": [],
   "source": [
    "set.seed(1)\n",
    "# Creating the training and testing split of the data\n",
    "wine_split <- initial_split(white_wine_data, prop = .75, strata = quality)\n",
    "wine_train <- training(wine_split)\n",
    "wine_test <- testing(wine_split)\n",
    "\n",
    "paste(\"Table 4. Traing Dataset\")\n",
    "wine_train\n",
    "paste(\"Table 5. Testing Dataset\")\n",
    "wine_test"
   ]
  },
  {
   "cell_type": "code",
   "execution_count": null,
   "id": "0145890b-4cd7-4165-81f3-c5335c952a0b",
   "metadata": {
    "tags": []
   },
   "outputs": [],
   "source": [
    "# Count the number of observations\n",
    "wine_qual_counts <- wine_train |>\n",
    "            group_by(quality) |>\n",
    "            summarize(count = n())\n",
    "paste(\"Table 6. Wine Quality(Low/High) Count\")\n",
    "wine_qual_counts"
   ]
  },
  {
   "cell_type": "code",
   "execution_count": null,
   "id": "17b0c413-4702-4a42-90bb-f36bbd50f9cf",
   "metadata": {
    "tags": []
   },
   "outputs": [],
   "source": [
    "# Summarize the overall mean of each predictor\n",
    "wine_avgs <- wine_train |>\n",
    "            select(fixed_acidity:alcohol) |>\n",
    "            map_df(mean) \n",
    "paste(\"Table 7. Predictors Mean\")\n",
    "wine_avgs"
   ]
  },
  {
   "cell_type": "code",
   "execution_count": null,
   "id": "a4a7efde-3534-44d4-8eb2-4163dd05be02",
   "metadata": {
    "tags": []
   },
   "outputs": [],
   "source": [
    "# Summarize the mean of predictors for each quality of wine\n",
    "wine_each_avgs <- wine_train |>\n",
    "            group_by(quality) |>\n",
    "            summarize(across(fixed_acidity:alcohol, mean))\n",
    "paste(\"Table 8. Predictors Mean for Each Quality\")\n",
    "wine_each_avgs"
   ]
  },
  {
   "cell_type": "markdown",
   "id": "302d6a3c-8ee0-4a66-a9c6-55bf8607c79b",
   "metadata": {},
   "source": [
    "### 4. Visualizing the Data"
   ]
  },
  {
   "cell_type": "code",
   "execution_count": null,
   "id": "c4dcaf54-9991-4e8c-8bd9-2aab00310cf4",
   "metadata": {
    "tags": []
   },
   "outputs": [],
   "source": [
    "# Plot each predictor to see useful variables\n",
    "plot1 <- wine_train |>\n",
    "    ggplot(aes (x = citric_acid, y = residual_sugar, color = quality)) +\n",
    "    geom_point() +\n",
    "    ggtitle(\"Figure 1. Critric Acid Againt Residual Sugar\") +\n",
    "    labs(x = \"Citric Acid (g/dm3)\", y = \"Residual Sugar (g/dm3)\")\n",
    "\n",
    "plot2 <- wine_train |>\n",
    "    ggplot(aes (x = citric_acid, y = fixed_acidity, color = quality)) +\n",
    "    geom_point() +\n",
    "    ggtitle(\"Figure 2. Critric Acid Againt Fixed Acidity\") +\n",
    "    labs(x = \"Citric Acid (g/dm3)\", y = \"Fixed Acidity (g/dm3)\")\n",
    "\n",
    "plot3 <- wine_train |>\n",
    "    ggplot(aes (x = citric_acid, y = volatile_acidity, color = quality)) +\n",
    "    geom_point() +\n",
    "    ggtitle(\"Figure 3. Critric Acid Againt Volatile Acidity\") +\n",
    "    labs(x = \"Citric Acid (g/dm3)\", y = \"Volatile Acidity (g/dm3)\")\n",
    "\n",
    "plot4 <- wine_train |>\n",
    "    ggplot(aes (x = citric_acid, y = chlorides, color = quality)) +\n",
    "    geom_point() +\n",
    "    ggtitle(\"Figure 4. Critric Acid Againt Clorides\") +\n",
    "    labs(x = \"Citric Acid (g/dm3)\", y = \"Clorides (g/dm3)\")\n",
    "\n",
    "plot5 <- wine_train |>\n",
    "    ggplot(aes (x = citric_acid, y = free_sulfur_dioxide, color = quality)) +\n",
    "    geom_point() +\n",
    "    ggtitle(\"Figure 5. Critric Acid Againt Free Sulfur Dioxide\") +\n",
    "    labs(x = \"Citric Acid (g/dm3)\", y = \"Free Sulfur Dioxide (mg/dm3)\")\n",
    "\n",
    "plot6 <- wine_train |>\n",
    "    ggplot(aes (x = citric_acid, y = total_sulfur_dioxide, color = quality)) +\n",
    "    geom_point() +\n",
    "    ggtitle(\"Figure 6. Critric Acid Againt Total Sulfur Dioxide\") +\n",
    "    labs(x = \"Citric Acid (g/dm3)\", y = \"Total Sulfur Dioxide (mg/dm3)\")\n",
    "\n",
    "plot7 <- wine_train |>\n",
    "    ggplot(aes (x = citric_acid, y = density, color = quality)) +\n",
    "    geom_point() +\n",
    "    ggtitle(\"Figure 7. Critric Acid Againt Density\") +\n",
    "    labs(x = \"Citric Acid (g/dm3)\", y = \"Density (g/cm3)\")\n",
    "\n",
    "plot8 <- wine_train |>\n",
    "    ggplot(aes (x = citric_acid, y = pH, color = quality)) +\n",
    "    geom_point() +\n",
    "    ggtitle(\"Figure 8. Critric Acid Againt pH\") +\n",
    "    labs(x = \"Citric Acid (g/dm3)\", y = \"pH\")\n",
    "\n",
    "plot9 <- wine_train |>\n",
    "    ggplot(aes (x = citric_acid, y = sulphates, color = quality)) +\n",
    "    geom_point() +\n",
    "    ggtitle(\"Figure 9. Critric Acid Againt Sulphates\") +\n",
    "    labs(x = \"Citric Acid (g/dm3)\", y = \"Sulphates(g/dm3)\")\n"
   ]
  },
  {
   "cell_type": "code",
   "execution_count": null,
   "id": "635ec652-0e3a-4118-a14d-a162bcd3933a",
   "metadata": {
    "tags": []
   },
   "outputs": [],
   "source": [
    "plot1\n",
    "plot2\n",
    "plot3\n",
    "plot4\n",
    "plot5\n",
    "plot6\n",
    "plot7\n",
    "plot8\n",
    "plot9"
   ]
  },
  {
   "cell_type": "markdown",
   "id": "5813e321-0adf-48cb-892f-03a05804d7e2",
   "metadata": {},
   "source": [
    "### 5. Methods\n",
    "The response variable we are looking for: \n",
    "- *Quality*\n",
    "\n",
    "\n",
    "The variables/predictors, as stated before: \n",
    "1) pH \n",
    "2) Density \n",
    "3) Alcohol \n",
    "4) Residual Sugar \n",
    "5) Citric Acid \n",
    "\n",
    "Procedure:\n",
    "1. Read the data into R from the web\n",
    "2. Clean and format the data into a tidy format\n",
    "3. Select columns, then scale and center all variables of the data set\n",
    "4. Separate the data set into a training and test set\n",
    "5. Perform cross-validation in order to determine the K-value to use for the classifier\n",
    "6. Create the K-nearest neighbors classifier with the training set using the **tidymodels** package\n",
    "7. Create a model and recipe, and train the classifier\n",
    "8. Find the classifier’s accuracy\n",
    "\n",
    "Visualization\n",
    "- A scatterplot would be used to first visualize the data set.\n",
    "- A line graph can be used to visualize the accuracy of the classifier\n",
    "\n",
    "\n",
    "#### Expected outcomes and signifigance:\n",
    "\n",
    "**What do we expect to find?**\n",
    "\n",
    "We expect to find the quality of wine by classifying it on a scale of 1 to 10 using 5 of its properties as predictors: pH, density, alcohol, residual sugar, and citric acid. In other words, when given a new observation of wine, we should be able to predict its wine quality using our classification method.\n",
    "Generally, we expect to find that wine quality will increase with lower pH, residual sugar and density, and higher alcohol content and citric acid. \n",
    "\n",
    "**What impact could such findings have?**\n",
    "\n",
    "These findings can help wine sellers determine the quality of the wine they are selling, as well as their respective price ranges based on the quality. In addition, wine manufacturers will be able to determine how to increase the quality of their wine. Clients will also be able to purchase high-quality wine, and understanding its quality can also help sellers understand the details and basis of why certain kinds of wine are sold most successfully.\n",
    "\n",
    "**Some future questions this could lead to are:**\n",
    "1. How can wine manufacturers find a balance between the quality and cost of the wines they make? \n",
    "2. Which of the factors we discussed contributes the most to wine quality?\n",
    "3. How will using different variables affect the wine quality?"
   ]
  },
  {
   "cell_type": "code",
   "execution_count": null,
   "id": "be478171-d2da-47a2-b032-e8e5b4dac7a9",
   "metadata": {},
   "outputs": [],
   "source": []
  },
  {
   "cell_type": "code",
   "execution_count": null,
   "id": "4b27e0ae-53ab-4a21-a1cd-8798b81c9674",
   "metadata": {},
   "outputs": [],
   "source": []
  }
 ],
 "metadata": {
  "kernelspec": {
   "display_name": "R",
   "language": "R",
   "name": "ir"
  },
  "language_info": {
   "codemirror_mode": "r",
   "file_extension": ".r",
   "mimetype": "text/x-r-source",
   "name": "R",
   "pygments_lexer": "r",
   "version": "4.2.2"
  }
 },
 "nbformat": 4,
 "nbformat_minor": 5
}
