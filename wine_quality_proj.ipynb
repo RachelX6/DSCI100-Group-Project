{
 "cells": [
  {
   "cell_type": "code",
   "execution_count": 1,
   "id": "4076b2a2-28ef-4e24-ad6b-5266f5e11daa",
   "metadata": {
    "tags": []
   },
   "outputs": [
    {
     "name": "stderr",
     "output_type": "stream",
     "text": [
      "── \u001b[1mAttaching packages\u001b[22m ─────────────────────────────────────── tidyverse 1.3.2 ──\n",
      "\u001b[32m✔\u001b[39m \u001b[34mggplot2\u001b[39m 3.4.2     \u001b[32m✔\u001b[39m \u001b[34mpurrr  \u001b[39m 1.0.1\n",
      "\u001b[32m✔\u001b[39m \u001b[34mtibble \u001b[39m 3.2.1     \u001b[32m✔\u001b[39m \u001b[34mdplyr  \u001b[39m 1.1.1\n",
      "\u001b[32m✔\u001b[39m \u001b[34mtidyr  \u001b[39m 1.3.0     \u001b[32m✔\u001b[39m \u001b[34mstringr\u001b[39m 1.5.0\n",
      "\u001b[32m✔\u001b[39m \u001b[34mreadr  \u001b[39m 2.1.3     \u001b[32m✔\u001b[39m \u001b[34mforcats\u001b[39m 0.5.2\n",
      "── \u001b[1mConflicts\u001b[22m ────────────────────────────────────────── tidyverse_conflicts() ──\n",
      "\u001b[31m✖\u001b[39m \u001b[34mdplyr\u001b[39m::\u001b[32mfilter()\u001b[39m masks \u001b[34mstats\u001b[39m::filter()\n",
      "\u001b[31m✖\u001b[39m \u001b[34mdplyr\u001b[39m::\u001b[32mlag()\u001b[39m    masks \u001b[34mstats\u001b[39m::lag()\n",
      "── \u001b[1mAttaching packages\u001b[22m ────────────────────────────────────── tidymodels 1.0.0 ──\n",
      "\n",
      "\u001b[32m✔\u001b[39m \u001b[34mbroom       \u001b[39m 1.0.2     \u001b[32m✔\u001b[39m \u001b[34mrsample     \u001b[39m 1.1.1\n",
      "\u001b[32m✔\u001b[39m \u001b[34mdials       \u001b[39m 1.1.0     \u001b[32m✔\u001b[39m \u001b[34mtune        \u001b[39m 1.0.1\n",
      "\u001b[32m✔\u001b[39m \u001b[34minfer       \u001b[39m 1.0.4     \u001b[32m✔\u001b[39m \u001b[34mworkflows   \u001b[39m 1.1.2\n",
      "\u001b[32m✔\u001b[39m \u001b[34mmodeldata   \u001b[39m 1.0.1     \u001b[32m✔\u001b[39m \u001b[34mworkflowsets\u001b[39m 1.0.0\n",
      "\u001b[32m✔\u001b[39m \u001b[34mparsnip     \u001b[39m 1.0.3     \u001b[32m✔\u001b[39m \u001b[34myardstick   \u001b[39m 1.1.0\n",
      "\u001b[32m✔\u001b[39m \u001b[34mrecipes     \u001b[39m 1.0.4     \n",
      "\n",
      "── \u001b[1mConflicts\u001b[22m ───────────────────────────────────────── tidymodels_conflicts() ──\n",
      "\u001b[31m✖\u001b[39m \u001b[34mscales\u001b[39m::\u001b[32mdiscard()\u001b[39m masks \u001b[34mpurrr\u001b[39m::discard()\n",
      "\u001b[31m✖\u001b[39m \u001b[34mdplyr\u001b[39m::\u001b[32mfilter()\u001b[39m   masks \u001b[34mstats\u001b[39m::filter()\n",
      "\u001b[31m✖\u001b[39m \u001b[34mrecipes\u001b[39m::\u001b[32mfixed()\u001b[39m  masks \u001b[34mstringr\u001b[39m::fixed()\n",
      "\u001b[31m✖\u001b[39m \u001b[34mdplyr\u001b[39m::\u001b[32mlag()\u001b[39m      masks \u001b[34mstats\u001b[39m::lag()\n",
      "\u001b[31m✖\u001b[39m \u001b[34myardstick\u001b[39m::\u001b[32mspec()\u001b[39m masks \u001b[34mreadr\u001b[39m::spec()\n",
      "\u001b[31m✖\u001b[39m \u001b[34mrecipes\u001b[39m::\u001b[32mstep()\u001b[39m   masks \u001b[34mstats\u001b[39m::step()\n",
      "\u001b[34m•\u001b[39m Learn how to get started at \u001b[32mhttps://www.tidymodels.org/start/\u001b[39m\n",
      "\n"
     ]
    }
   ],
   "source": [
    "library(tidyverse)\n",
    "library(repr)\n",
    "library(tidymodels)\n",
    "options(repr.matrix.max.rows = 6)"
   ]
  },
  {
   "cell_type": "markdown",
   "id": "42a32292-0d19-43d0-9375-8f206b6fc4f1",
   "metadata": {},
   "source": [
    "Before we begin working with the data, we must load it into R from the web. The url for this dataset is https://archive.ics.uci.edu/static/public/186/wine+quality.zip. Note that this is a zip file, and so we must unzip this file to access the .csv file within."
   ]
  },
  {
   "cell_type": "code",
   "execution_count": 2,
   "id": "7241ac45-daeb-491f-b9c2-2cc892457518",
   "metadata": {
    "tags": []
   },
   "outputs": [],
   "source": [
    "dir.create(\"data/\")"
   ]
  },
  {
   "cell_type": "code",
   "execution_count": 3,
   "id": "70c93271-f813-47b4-b084-7bd4177a5de5",
   "metadata": {
    "tags": []
   },
   "outputs": [
    {
     "name": "stderr",
     "output_type": "stream",
     "text": [
      "\u001b[1mRows: \u001b[22m\u001b[34m4898\u001b[39m \u001b[1mColumns: \u001b[22m\u001b[34m12\u001b[39m\n",
      "\u001b[36m──\u001b[39m \u001b[1mColumn specification\u001b[22m \u001b[36m────────────────────────────────────────────────────────\u001b[39m\n",
      "\u001b[1mDelimiter:\u001b[22m \";\"\n",
      "\u001b[32mdbl\u001b[39m (12): fixed acidity, volatile acidity, citric acid, residual sugar, chlo...\n",
      "\n",
      "\u001b[36mℹ\u001b[39m Use `spec()` to retrieve the full column specification for this data.\n",
      "\u001b[36mℹ\u001b[39m Specify the column types or set `show_col_types = FALSE` to quiet this message.\n"
     ]
    },
    {
     "data": {
      "text/html": [
       "<table class=\"dataframe\">\n",
       "<caption>A tibble: 4898 × 6</caption>\n",
       "<thead>\n",
       "\t<tr><th scope=col>citric_acid</th><th scope=col>residual_sugar</th><th scope=col>density</th><th scope=col>pH</th><th scope=col>alcohol</th><th scope=col>quality</th></tr>\n",
       "\t<tr><th scope=col>&lt;dbl&gt;</th><th scope=col>&lt;dbl&gt;</th><th scope=col>&lt;dbl&gt;</th><th scope=col>&lt;dbl&gt;</th><th scope=col>&lt;dbl&gt;</th><th scope=col>&lt;dbl&gt;</th></tr>\n",
       "</thead>\n",
       "<tbody>\n",
       "\t<tr><td>0.36</td><td>20.7</td><td>1.0010</td><td>3.00</td><td> 8.8</td><td>6</td></tr>\n",
       "\t<tr><td>0.34</td><td> 1.6</td><td>0.9940</td><td>3.30</td><td> 9.5</td><td>6</td></tr>\n",
       "\t<tr><td>0.40</td><td> 6.9</td><td>0.9951</td><td>3.26</td><td>10.1</td><td>6</td></tr>\n",
       "\t<tr><td>⋮</td><td>⋮</td><td>⋮</td><td>⋮</td><td>⋮</td><td>⋮</td></tr>\n",
       "\t<tr><td>0.19</td><td>1.2</td><td>0.99254</td><td>2.99</td><td> 9.4</td><td>6</td></tr>\n",
       "\t<tr><td>0.30</td><td>1.1</td><td>0.98869</td><td>3.34</td><td>12.8</td><td>7</td></tr>\n",
       "\t<tr><td>0.38</td><td>0.8</td><td>0.98941</td><td>3.26</td><td>11.8</td><td>6</td></tr>\n",
       "</tbody>\n",
       "</table>\n"
      ],
      "text/latex": [
       "A tibble: 4898 × 6\n",
       "\\begin{tabular}{llllll}\n",
       " citric\\_acid & residual\\_sugar & density & pH & alcohol & quality\\\\\n",
       " <dbl> & <dbl> & <dbl> & <dbl> & <dbl> & <dbl>\\\\\n",
       "\\hline\n",
       "\t 0.36 & 20.7 & 1.0010 & 3.00 &  8.8 & 6\\\\\n",
       "\t 0.34 &  1.6 & 0.9940 & 3.30 &  9.5 & 6\\\\\n",
       "\t 0.40 &  6.9 & 0.9951 & 3.26 & 10.1 & 6\\\\\n",
       "\t ⋮ & ⋮ & ⋮ & ⋮ & ⋮ & ⋮\\\\\n",
       "\t 0.19 & 1.2 & 0.99254 & 2.99 &  9.4 & 6\\\\\n",
       "\t 0.30 & 1.1 & 0.98869 & 3.34 & 12.8 & 7\\\\\n",
       "\t 0.38 & 0.8 & 0.98941 & 3.26 & 11.8 & 6\\\\\n",
       "\\end{tabular}\n"
      ],
      "text/markdown": [
       "\n",
       "A tibble: 4898 × 6\n",
       "\n",
       "| citric_acid &lt;dbl&gt; | residual_sugar &lt;dbl&gt; | density &lt;dbl&gt; | pH &lt;dbl&gt; | alcohol &lt;dbl&gt; | quality &lt;dbl&gt; |\n",
       "|---|---|---|---|---|---|\n",
       "| 0.36 | 20.7 | 1.0010 | 3.00 |  8.8 | 6 |\n",
       "| 0.34 |  1.6 | 0.9940 | 3.30 |  9.5 | 6 |\n",
       "| 0.40 |  6.9 | 0.9951 | 3.26 | 10.1 | 6 |\n",
       "| ⋮ | ⋮ | ⋮ | ⋮ | ⋮ | ⋮ |\n",
       "| 0.19 | 1.2 | 0.99254 | 2.99 |  9.4 | 6 |\n",
       "| 0.30 | 1.1 | 0.98869 | 3.34 | 12.8 | 7 |\n",
       "| 0.38 | 0.8 | 0.98941 | 3.26 | 11.8 | 6 |\n",
       "\n"
      ],
      "text/plain": [
       "     citric_acid residual_sugar density pH   alcohol quality\n",
       "1    0.36        20.7           1.0010  3.00  8.8    6      \n",
       "2    0.34         1.6           0.9940  3.30  9.5    6      \n",
       "3    0.40         6.9           0.9951  3.26 10.1    6      \n",
       "⋮    ⋮           ⋮              ⋮       ⋮    ⋮       ⋮      \n",
       "4896 0.19        1.2            0.99254 2.99  9.4    6      \n",
       "4897 0.30        1.1            0.98869 3.34 12.8    7      \n",
       "4898 0.38        0.8            0.98941 3.26 11.8    6      "
      ]
     },
     "metadata": {},
     "output_type": "display_data"
    }
   ],
   "source": [
    "url <- \"https://archive.ics.uci.edu/static/public/186/wine+quality.zip\" # Url for the dataset's zip file, containing white and red wine data.\n",
    "\n",
    "download.file(url, destfile = \"data/wine_quality.zip\")\n",
    "unzip(\"data/wine_quality.zip\", exdir = \"data/\") # Unzipping the zipped wine quality file.\n",
    "white_wine_data <- read_delim(\"data/winequality-white.csv\", delim = \";\")  # Selecting the white wine data that will be used for this project.\n",
    "colnames(white_wine_data) <- c(\"fixed_acidity\", # Adjusting column names for cleanliness.\n",
    "              \"volatile_acidity\",\n",
    "              \"citric_acid\",\n",
    "              \"residual_sugar\",\n",
    "              \"chlorides\",\n",
    "              \"free_sulfur_dioxide\",\n",
    "              \"total_sulfur_dioxide\",\n",
    "              \"density\",\n",
    "              \"pH\",\n",
    "              \"sulphates\",\n",
    "              \"alcohol\",\n",
    "              \"quality\")\n",
    "white_wine_data <- white_wine_data |>\n",
    "            select(citric_acid, residual_sugar, density, pH, alcohol, quality) # Selecting the variables to be measured.\n",
    "white_wine_data"
   ]
  },
  {
   "cell_type": "markdown",
   "id": "b10c59af-93fd-457d-aa5c-3982e7405586",
   "metadata": {},
   "source": [
    "The first 5 columns here are going to be the predictors for the quality column. A brief description of each is as follows:\n",
    "- `citric_acid` -> The mass of citric acid in the wine (g/dm$^{3}$).\n",
    "- `residual_sugar` -> The mass of residual sugar in the wine (g/dm$^{3}$).\n",
    "- `density` -> The density of the wine (g/cm$^{3}$).\n",
    "- `pH` -> The pH of the wine (1-14).\n",
    "- `alcohol` -> The volume % alcohol content of the wine.\n",
    "\n",
    "The last column, `quality`, is a rating on a scale from 1 to 10 of the wine's determined quality based on the given physicochemical factors."
   ]
  },
  {
   "cell_type": "code",
   "execution_count": 4,
   "id": "05839677-38d2-40c5-b66c-45ee24282384",
   "metadata": {
    "tags": []
   },
   "outputs": [
    {
     "data": {
      "text/html": [
       "<table class=\"dataframe\">\n",
       "<caption>A tibble: 3673 × 6</caption>\n",
       "<thead>\n",
       "\t<tr><th scope=col>citric_acid</th><th scope=col>residual_sugar</th><th scope=col>density</th><th scope=col>pH</th><th scope=col>alcohol</th><th scope=col>quality</th></tr>\n",
       "\t<tr><th scope=col>&lt;dbl&gt;</th><th scope=col>&lt;dbl&gt;</th><th scope=col>&lt;dbl&gt;</th><th scope=col>&lt;dbl&gt;</th><th scope=col>&lt;dbl&gt;</th><th scope=col>&lt;dbl&gt;</th></tr>\n",
       "</thead>\n",
       "<tbody>\n",
       "\t<tr><td>0.40</td><td> 4.20</td><td>0.9947</td><td>3.14</td><td> 9.7</td><td>5</td></tr>\n",
       "\t<tr><td>0.37</td><td> 1.20</td><td>0.9920</td><td>3.18</td><td>10.8</td><td>5</td></tr>\n",
       "\t<tr><td>0.62</td><td>19.25</td><td>1.0002</td><td>2.98</td><td> 9.7</td><td>5</td></tr>\n",
       "\t<tr><td>⋮</td><td>⋮</td><td>⋮</td><td>⋮</td><td>⋮</td><td>⋮</td></tr>\n",
       "\t<tr><td>0.28</td><td>5.7</td><td>0.99168</td><td>3.21</td><td>12.15</td><td>7</td></tr>\n",
       "\t<tr><td>0.22</td><td>1.9</td><td>0.98928</td><td>3.04</td><td>13.00</td><td>7</td></tr>\n",
       "\t<tr><td>0.30</td><td>1.1</td><td>0.98869</td><td>3.34</td><td>12.80</td><td>7</td></tr>\n",
       "</tbody>\n",
       "</table>\n"
      ],
      "text/latex": [
       "A tibble: 3673 × 6\n",
       "\\begin{tabular}{llllll}\n",
       " citric\\_acid & residual\\_sugar & density & pH & alcohol & quality\\\\\n",
       " <dbl> & <dbl> & <dbl> & <dbl> & <dbl> & <dbl>\\\\\n",
       "\\hline\n",
       "\t 0.40 &  4.20 & 0.9947 & 3.14 &  9.7 & 5\\\\\n",
       "\t 0.37 &  1.20 & 0.9920 & 3.18 & 10.8 & 5\\\\\n",
       "\t 0.62 & 19.25 & 1.0002 & 2.98 &  9.7 & 5\\\\\n",
       "\t ⋮ & ⋮ & ⋮ & ⋮ & ⋮ & ⋮\\\\\n",
       "\t 0.28 & 5.7 & 0.99168 & 3.21 & 12.15 & 7\\\\\n",
       "\t 0.22 & 1.9 & 0.98928 & 3.04 & 13.00 & 7\\\\\n",
       "\t 0.30 & 1.1 & 0.98869 & 3.34 & 12.80 & 7\\\\\n",
       "\\end{tabular}\n"
      ],
      "text/markdown": [
       "\n",
       "A tibble: 3673 × 6\n",
       "\n",
       "| citric_acid &lt;dbl&gt; | residual_sugar &lt;dbl&gt; | density &lt;dbl&gt; | pH &lt;dbl&gt; | alcohol &lt;dbl&gt; | quality &lt;dbl&gt; |\n",
       "|---|---|---|---|---|---|\n",
       "| 0.40 |  4.20 | 0.9947 | 3.14 |  9.7 | 5 |\n",
       "| 0.37 |  1.20 | 0.9920 | 3.18 | 10.8 | 5 |\n",
       "| 0.62 | 19.25 | 1.0002 | 2.98 |  9.7 | 5 |\n",
       "| ⋮ | ⋮ | ⋮ | ⋮ | ⋮ | ⋮ |\n",
       "| 0.28 | 5.7 | 0.99168 | 3.21 | 12.15 | 7 |\n",
       "| 0.22 | 1.9 | 0.98928 | 3.04 | 13.00 | 7 |\n",
       "| 0.30 | 1.1 | 0.98869 | 3.34 | 12.80 | 7 |\n",
       "\n"
      ],
      "text/plain": [
       "     citric_acid residual_sugar density pH   alcohol quality\n",
       "1    0.40         4.20          0.9947  3.14  9.7    5      \n",
       "2    0.37         1.20          0.9920  3.18 10.8    5      \n",
       "3    0.62        19.25          1.0002  2.98  9.7    5      \n",
       "⋮    ⋮           ⋮              ⋮       ⋮    ⋮       ⋮      \n",
       "3671 0.28        5.7            0.99168 3.21 12.15   7      \n",
       "3672 0.22        1.9            0.98928 3.04 13.00   7      \n",
       "3673 0.30        1.1            0.98869 3.34 12.80   7      "
      ]
     },
     "metadata": {},
     "output_type": "display_data"
    },
    {
     "data": {
      "text/html": [
       "<table class=\"dataframe\">\n",
       "<caption>A tibble: 1225 × 6</caption>\n",
       "<thead>\n",
       "\t<tr><th scope=col>citric_acid</th><th scope=col>residual_sugar</th><th scope=col>density</th><th scope=col>pH</th><th scope=col>alcohol</th><th scope=col>quality</th></tr>\n",
       "\t<tr><th scope=col>&lt;dbl&gt;</th><th scope=col>&lt;dbl&gt;</th><th scope=col>&lt;dbl&gt;</th><th scope=col>&lt;dbl&gt;</th><th scope=col>&lt;dbl&gt;</th><th scope=col>&lt;dbl&gt;</th></tr>\n",
       "</thead>\n",
       "<tbody>\n",
       "\t<tr><td>0.40</td><td>6.90</td><td>0.9951</td><td>3.26</td><td>10.1</td><td>6</td></tr>\n",
       "\t<tr><td>0.43</td><td>1.50</td><td>0.9938</td><td>3.22</td><td>11.0</td><td>6</td></tr>\n",
       "\t<tr><td>0.41</td><td>1.45</td><td>0.9908</td><td>2.99</td><td>12.0</td><td>5</td></tr>\n",
       "\t<tr><td>⋮</td><td>⋮</td><td>⋮</td><td>⋮</td><td>⋮</td><td>⋮</td></tr>\n",
       "\t<tr><td>0.40</td><td>8.1</td><td>0.99494</td><td>3.15</td><td>9.533333</td><td>6</td></tr>\n",
       "\t<tr><td>0.38</td><td>1.3</td><td>0.99298</td><td>3.29</td><td>9.700000</td><td>5</td></tr>\n",
       "\t<tr><td>0.19</td><td>1.2</td><td>0.99254</td><td>2.99</td><td>9.400000</td><td>6</td></tr>\n",
       "</tbody>\n",
       "</table>\n"
      ],
      "text/latex": [
       "A tibble: 1225 × 6\n",
       "\\begin{tabular}{llllll}\n",
       " citric\\_acid & residual\\_sugar & density & pH & alcohol & quality\\\\\n",
       " <dbl> & <dbl> & <dbl> & <dbl> & <dbl> & <dbl>\\\\\n",
       "\\hline\n",
       "\t 0.40 & 6.90 & 0.9951 & 3.26 & 10.1 & 6\\\\\n",
       "\t 0.43 & 1.50 & 0.9938 & 3.22 & 11.0 & 6\\\\\n",
       "\t 0.41 & 1.45 & 0.9908 & 2.99 & 12.0 & 5\\\\\n",
       "\t ⋮ & ⋮ & ⋮ & ⋮ & ⋮ & ⋮\\\\\n",
       "\t 0.40 & 8.1 & 0.99494 & 3.15 & 9.533333 & 6\\\\\n",
       "\t 0.38 & 1.3 & 0.99298 & 3.29 & 9.700000 & 5\\\\\n",
       "\t 0.19 & 1.2 & 0.99254 & 2.99 & 9.400000 & 6\\\\\n",
       "\\end{tabular}\n"
      ],
      "text/markdown": [
       "\n",
       "A tibble: 1225 × 6\n",
       "\n",
       "| citric_acid &lt;dbl&gt; | residual_sugar &lt;dbl&gt; | density &lt;dbl&gt; | pH &lt;dbl&gt; | alcohol &lt;dbl&gt; | quality &lt;dbl&gt; |\n",
       "|---|---|---|---|---|---|\n",
       "| 0.40 | 6.90 | 0.9951 | 3.26 | 10.1 | 6 |\n",
       "| 0.43 | 1.50 | 0.9938 | 3.22 | 11.0 | 6 |\n",
       "| 0.41 | 1.45 | 0.9908 | 2.99 | 12.0 | 5 |\n",
       "| ⋮ | ⋮ | ⋮ | ⋮ | ⋮ | ⋮ |\n",
       "| 0.40 | 8.1 | 0.99494 | 3.15 | 9.533333 | 6 |\n",
       "| 0.38 | 1.3 | 0.99298 | 3.29 | 9.700000 | 5 |\n",
       "| 0.19 | 1.2 | 0.99254 | 2.99 | 9.400000 | 6 |\n",
       "\n"
      ],
      "text/plain": [
       "     citric_acid residual_sugar density pH   alcohol  quality\n",
       "1    0.40        6.90           0.9951  3.26 10.1     6      \n",
       "2    0.43        1.50           0.9938  3.22 11.0     6      \n",
       "3    0.41        1.45           0.9908  2.99 12.0     5      \n",
       "⋮    ⋮           ⋮              ⋮       ⋮    ⋮        ⋮      \n",
       "1223 0.40        8.1            0.99494 3.15 9.533333 6      \n",
       "1224 0.38        1.3            0.99298 3.29 9.700000 5      \n",
       "1225 0.19        1.2            0.99254 2.99 9.400000 6      "
      ]
     },
     "metadata": {},
     "output_type": "display_data"
    }
   ],
   "source": [
    "set.seed(1357)\n",
    "# Creating the training and testing split of the data\n",
    "wine_split <- initial_split(white_wine_data, prop = .75, strata = quality)\n",
    "wine_train <- training(wine_split)\n",
    "wine_test <- testing(wine_split)\n",
    "\n",
    "wine_train\n",
    "wine_test"
   ]
  },
  {
   "cell_type": "code",
   "execution_count": 5,
   "id": "9619e33f-24b6-4a52-b747-64cda12dd7fa",
   "metadata": {
    "tags": []
   },
   "outputs": [
    {
     "name": "stdout",
     "output_type": "stream",
     "text": [
      "\u001b[90m# A tibble: 7 × 2\u001b[39m\n",
      "  quality count\n",
      "    \u001b[3m\u001b[90m<dbl>\u001b[39m\u001b[23m \u001b[3m\u001b[90m<int>\u001b[39m\u001b[23m\n",
      "\u001b[90m1\u001b[39m       3    19\n",
      "\u001b[90m2\u001b[39m       4   122\n",
      "\u001b[90m3\u001b[39m       5  \u001b[4m1\u001b[24m089\n",
      "\u001b[90m4\u001b[39m       6  \u001b[4m1\u001b[24m648\n",
      "\u001b[90m5\u001b[39m       7   658\n",
      "\u001b[90m6\u001b[39m       8   132\n",
      "\u001b[90m7\u001b[39m       9     5\n"
     ]
    }
   ],
   "source": [
    "wine_qual_counts <- wine_train |>\n",
    "            group_by(quality) |>\n",
    "            summarize(count = n())\n",
    "print(wine_qual_counts)"
   ]
  },
  {
   "cell_type": "markdown",
   "id": "7c400213-52a7-42f6-b37c-24f87671f971",
   "metadata": {},
   "source": [
    "This count displays the count of observations for each quality of wine present in the table. From the table we can see that only white wines of qualities 3 through 9 are present in the table, with the mode of the data set being the wine quality of 6."
   ]
  },
  {
   "cell_type": "code",
   "execution_count": 6,
   "id": "17b0c413-4702-4a42-90bb-f36bbd50f9cf",
   "metadata": {
    "tags": []
   },
   "outputs": [
    {
     "data": {
      "text/html": [
       "<table class=\"dataframe\">\n",
       "<caption>A tibble: 1 × 5</caption>\n",
       "<thead>\n",
       "\t<tr><th scope=col>citric_acid</th><th scope=col>residual_sugar</th><th scope=col>density</th><th scope=col>pH</th><th scope=col>alcohol</th></tr>\n",
       "\t<tr><th scope=col>&lt;dbl&gt;</th><th scope=col>&lt;dbl&gt;</th><th scope=col>&lt;dbl&gt;</th><th scope=col>&lt;dbl&gt;</th><th scope=col>&lt;dbl&gt;</th></tr>\n",
       "</thead>\n",
       "<tbody>\n",
       "\t<tr><td>0.3326491</td><td>6.378968</td><td>0.9940026</td><td>3.188707</td><td>10.52237</td></tr>\n",
       "</tbody>\n",
       "</table>\n"
      ],
      "text/latex": [
       "A tibble: 1 × 5\n",
       "\\begin{tabular}{lllll}\n",
       " citric\\_acid & residual\\_sugar & density & pH & alcohol\\\\\n",
       " <dbl> & <dbl> & <dbl> & <dbl> & <dbl>\\\\\n",
       "\\hline\n",
       "\t 0.3326491 & 6.378968 & 0.9940026 & 3.188707 & 10.52237\\\\\n",
       "\\end{tabular}\n"
      ],
      "text/markdown": [
       "\n",
       "A tibble: 1 × 5\n",
       "\n",
       "| citric_acid &lt;dbl&gt; | residual_sugar &lt;dbl&gt; | density &lt;dbl&gt; | pH &lt;dbl&gt; | alcohol &lt;dbl&gt; |\n",
       "|---|---|---|---|---|\n",
       "| 0.3326491 | 6.378968 | 0.9940026 | 3.188707 | 10.52237 |\n",
       "\n"
      ],
      "text/plain": [
       "  citric_acid residual_sugar density   pH       alcohol \n",
       "1 0.3326491   6.378968       0.9940026 3.188707 10.52237"
      ]
     },
     "metadata": {},
     "output_type": "display_data"
    }
   ],
   "source": [
    "wine_avgs <- wine_train |>\n",
    "            select(citric_acid:alcohol) |>\n",
    "            map_df(mean)\n",
    "wine_avgs"
   ]
  },
  {
   "cell_type": "markdown",
   "id": "01a0ae8c-0034-40ed-a678-4e07491840f7",
   "metadata": {},
   "source": [
    "These are the averages of each of the columns. etc..."
   ]
  },
  {
   "cell_type": "code",
   "execution_count": null,
   "id": "9ec40334-b16e-4c3b-b372-2bc43174195f",
   "metadata": {},
   "outputs": [],
   "source": []
  }
 ],
 "metadata": {
  "kernelspec": {
   "display_name": "R",
   "language": "R",
   "name": "ir"
  },
  "language_info": {
   "codemirror_mode": "r",
   "file_extension": ".r",
   "mimetype": "text/x-r-source",
   "name": "R",
   "pygments_lexer": "r",
   "version": "4.2.2"
  }
 },
 "nbformat": 4,
 "nbformat_minor": 5
}
