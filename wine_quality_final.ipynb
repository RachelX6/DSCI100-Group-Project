{
 "cells": [
  {
   "cell_type": "markdown",
   "id": "02599275-6444-4822-9e14-254029bb943b",
   "metadata": {},
   "source": [
    "# Group 42 Project Report : The Classification of Wine Quality\n",
    "\n",
    "## Introduction\n",
    "\n",
    "White wine is one of the oldest and most cherished alcoholic beverages known to humanity. It is not merely a drink; it is a wonderful interaction between flavors and aromas, a product of nature's alchemy and human craftsmanship that is commonly enjoyed before a meal, with dessert, or as a refreshing drink between meals. White wine is known for its light and refreshing taste, which sets it apart from many of its red wine counterparts. Due to its acidity and aroma, white wine is also useful in cooking, helping to soften meat and enhance the flavors of various dishes. The essence of white wine lies in its quality, a multifaceted concept that encompasses various chemical components and sensory attributes. \n",
    "\n",
    "This study delves into the complexity of wine quality, using a systematic approach to assess white wines on a scale of 1 to 10.  Our research focuses on five fundamental chemical properties: pH, density, alcohol content, residual sugar content, and citric acid. As each of these elements plays a crucial role in shaping the taste, aroma, and overall character of the wine, we would like to build a model to predict the score of wine quality by the five properties.\n",
    "\n",
    "This project uses the Wine Quality dataset of the white variant of the Portuguese \"Vinho Verde\" wine. This dataset contains 4898 observations of white wine with 12 attributes for each observation, however, only 6 of the attributes will be used for this classification project. This particular dataset contains no missing values.\n",
    "\n",
    "\n",
    "#### Research question: Can a wine’s quality be accurately predicted on a scale of 1 to 10 based on its pH, density, alcohol content, residual sugar content, and citric acid?\n",
    "\n",
    "To begin thinking about how to approach this question, we must first take a look at the raw data set. We will first load in a few useful packages for loading and working with our data set."
   ]
  },
  {
   "cell_type": "code",
   "execution_count": 1,
   "id": "cab24e9d-0a8e-4ade-a0b4-28e901ff485f",
   "metadata": {
    "tags": []
   },
   "outputs": [
    {
     "name": "stderr",
     "output_type": "stream",
     "text": [
      "Updating HTML index of packages in '.Library'\n",
      "\n",
      "Making 'packages.html' ...\n",
      " done\n",
      "\n",
      "── \u001b[1mAttaching packages\u001b[22m ─────────────────────────────────────── tidyverse 1.3.2 ──\n",
      "\u001b[32m✔\u001b[39m \u001b[34mggplot2\u001b[39m 3.4.2     \u001b[32m✔\u001b[39m \u001b[34mpurrr  \u001b[39m 1.0.1\n",
      "\u001b[32m✔\u001b[39m \u001b[34mtibble \u001b[39m 3.2.1     \u001b[32m✔\u001b[39m \u001b[34mdplyr  \u001b[39m 1.1.1\n",
      "\u001b[32m✔\u001b[39m \u001b[34mtidyr  \u001b[39m 1.3.0     \u001b[32m✔\u001b[39m \u001b[34mstringr\u001b[39m 1.5.0\n",
      "\u001b[32m✔\u001b[39m \u001b[34mreadr  \u001b[39m 2.1.3     \u001b[32m✔\u001b[39m \u001b[34mforcats\u001b[39m 0.5.2\n",
      "── \u001b[1mConflicts\u001b[22m ────────────────────────────────────────── tidyverse_conflicts() ──\n",
      "\u001b[31m✖\u001b[39m \u001b[34mdplyr\u001b[39m::\u001b[32mfilter()\u001b[39m masks \u001b[34mstats\u001b[39m::filter()\n",
      "\u001b[31m✖\u001b[39m \u001b[34mdplyr\u001b[39m::\u001b[32mlag()\u001b[39m    masks \u001b[34mstats\u001b[39m::lag()\n",
      "── \u001b[1mAttaching packages\u001b[22m ────────────────────────────────────── tidymodels 1.0.0 ──\n",
      "\n",
      "\u001b[32m✔\u001b[39m \u001b[34mbroom       \u001b[39m 1.0.2     \u001b[32m✔\u001b[39m \u001b[34mrsample     \u001b[39m 1.1.1\n",
      "\u001b[32m✔\u001b[39m \u001b[34mdials       \u001b[39m 1.1.0     \u001b[32m✔\u001b[39m \u001b[34mtune        \u001b[39m 1.0.1\n",
      "\u001b[32m✔\u001b[39m \u001b[34minfer       \u001b[39m 1.0.4     \u001b[32m✔\u001b[39m \u001b[34mworkflows   \u001b[39m 1.1.2\n",
      "\u001b[32m✔\u001b[39m \u001b[34mmodeldata   \u001b[39m 1.0.1     \u001b[32m✔\u001b[39m \u001b[34mworkflowsets\u001b[39m 1.0.0\n",
      "\u001b[32m✔\u001b[39m \u001b[34mparsnip     \u001b[39m 1.0.3     \u001b[32m✔\u001b[39m \u001b[34myardstick   \u001b[39m 1.1.0\n",
      "\u001b[32m✔\u001b[39m \u001b[34mrecipes     \u001b[39m 1.0.4     \n",
      "\n",
      "── \u001b[1mConflicts\u001b[22m ───────────────────────────────────────── tidymodels_conflicts() ──\n",
      "\u001b[31m✖\u001b[39m \u001b[34mscales\u001b[39m::\u001b[32mdiscard()\u001b[39m masks \u001b[34mpurrr\u001b[39m::discard()\n",
      "\u001b[31m✖\u001b[39m \u001b[34mdplyr\u001b[39m::\u001b[32mfilter()\u001b[39m   masks \u001b[34mstats\u001b[39m::filter()\n",
      "\u001b[31m✖\u001b[39m \u001b[34mrecipes\u001b[39m::\u001b[32mfixed()\u001b[39m  masks \u001b[34mstringr\u001b[39m::fixed()\n",
      "\u001b[31m✖\u001b[39m \u001b[34mdplyr\u001b[39m::\u001b[32mlag()\u001b[39m      masks \u001b[34mstats\u001b[39m::lag()\n",
      "\u001b[31m✖\u001b[39m \u001b[34myardstick\u001b[39m::\u001b[32mspec()\u001b[39m masks \u001b[34mreadr\u001b[39m::spec()\n",
      "\u001b[31m✖\u001b[39m \u001b[34mrecipes\u001b[39m::\u001b[32mstep()\u001b[39m   masks \u001b[34mstats\u001b[39m::step()\n",
      "\u001b[34m•\u001b[39m Learn how to get started at \u001b[32mhttps://www.tidymodels.org/start/\u001b[39m\n",
      "\n",
      "\n",
      "Attaching package: ‘rvest’\n",
      "\n",
      "\n",
      "The following object is masked from ‘package:readr’:\n",
      "\n",
      "    guess_encoding\n",
      "\n",
      "\n"
     ]
    },
    {
     "ename": "ERROR",
     "evalue": "Error in library(GGally): there is no package called ‘GGally’\n",
     "output_type": "error",
     "traceback": [
      "Error in library(GGally): there is no package called ‘GGally’\nTraceback:\n",
      "1. library(GGally)"
     ]
    }
   ],
   "source": [
    "install.packages(\"kknn\")\n",
    "library(tidyverse)\n",
    "library(repr)\n",
    "library(tidymodels)\n",
    "library(rvest)\n",
    "library(GGally)\n",
    "library(kknn)\n",
    "options(repr.matrix.max.rows = 8)"
   ]
  },
  {
   "cell_type": "markdown",
   "id": "fc7b480c-7f0c-4933-819e-deb16ae9c888",
   "metadata": {},
   "source": [
    "## Methods and Results\n",
    "\n",
    "##### The response variable we are looking for: \n",
    "- *Quality*\n",
    "\n",
    "##### Procedure:\n",
    "1. Read the data into R from the web\n",
    "2. Clean and format the data into a tidy format\n",
    "3. Summarize the data to find appropriate variables\n",
    "4. Separate the data set into a training and test set\n",
    "5. Perform cross-validation in order to determine the K-value to use for the classifier\n",
    "6. Create the K-nearest neighbors classifier with the training set using the **tidymodels** package\n",
    "7. Create a model and recipe, and train the classifier\n",
    "8. Find the classifier’s accuracy\n",
    "\n",
    "##### Visualization\n",
    "- A scatterplot would be used to first visualize the data set.\n",
    "- A line graph can be used to visualize the accuracy of the classifier"
   ]
  },
  {
   "cell_type": "markdown",
   "id": "be9d4821-d610-4860-87d7-78c944a77b8a",
   "metadata": {},
   "source": [
    "### 1. Read Data\n",
    "Before we begin working with the data, we must load it into R from the web. The url for this dataset is https://archive.ics.uci.edu/static/public/186/wine+quality.zip."
   ]
  },
  {
   "cell_type": "code",
   "execution_count": null,
   "id": "f1d9d12b-1d9a-4c0c-8c49-910688d9fee7",
   "metadata": {
    "tags": []
   },
   "outputs": [],
   "source": [
    "url <- \"https://raw.githubusercontent.com/RachelX6/DSCI100-Group-Project/main/winequality-white.csv\"\n",
    "white_wine_data <- read_delim(url, delim = \";\") |>\n",
    "        drop_na()"
   ]
  },
  {
   "cell_type": "markdown",
   "id": "f4060dd6-c18f-4c95-a4d2-09ae0d2dd95f",
   "metadata": {},
   "source": [
    "### 2. Wrangling and Cleaning"
   ]
  },
  {
   "cell_type": "code",
   "execution_count": null,
   "id": "54171435-1df6-4ad8-a884-3c1aabc33104",
   "metadata": {
    "tags": []
   },
   "outputs": [],
   "source": [
    "colnames(white_wine_data) <- c(\"fixed_acidity\", # Adjusting column names for cleanliness.\n",
    "              \"volatile_acidity\",\n",
    "              \"citric_acid\",\n",
    "              \"residual_sugar\",\n",
    "              \"chlorides\",\n",
    "              \"free_sulfur_dioxide\",\n",
    "              \"total_sulfur_dioxide\",\n",
    "              \"density\",\n",
    "              \"pH\",\n",
    "              \"sulphates\",\n",
    "              \"alcohol\",\n",
    "              \"quality\")\n",
    "\n",
    "white_wine_data <- white_wine_data |>      # Changing the column \"quality\" into factor\n",
    "    mutate(quality = as_factor(quality))\n",
    "\n",
    "paste(\"Table 1. Glimpse of the White Wine Data\")\n",
    "head(white_wine_data, n = 5)"
   ]
  },
  {
   "cell_type": "markdown",
   "id": "0f9b6a06-c93f-45a5-b426-2759d77ddc25",
   "metadata": {},
   "source": [
    "Above is the first five rows of the cleaned data.\n",
    "A brief description of each column in the dataset is as follows:\n",
    "- `fixed_acidity` -> The mass of fixed acid in the wine (g(tartaric acid)/dm$^{3}$).\n",
    "- `volatile_acidity` -> The mass of volatile acid in the wine (g(acetic acid)/dm$^{3}$).\n",
    "- `citric_acid` -> The mass of citric acid in the wine (g/dm$^{3}$).\n",
    "- `residual_sugar` -> The mass of residual sugar in the wine (g/dm$^{3}$).\n",
    "- `chlorides` -> The mass of chlorides in the wine (g(sodium chloride)/dm$^{3}$).\n",
    "- `free_sulfur_dioxide` -> The mass of free sulfur dioxide in the wine (mg/dm$^{3}$).\n",
    "- `total_sulfur_dioxide` -> The mass of total sulfur dioxide in the wine (mg/dm$^{3}$).\n",
    "- `density` -> The overall density of the wine (g/cm$^{3}$).\n",
    "- `pH` -> The pH of the wine (1-14).\n",
    "- `sulphates` -> The mass of sulphates in the wine (g(potassium sulphate)/dm$^{3}$).\n",
    "- `alcohol` -> The volume % alcohol content of the wine.\n",
    "\n",
    "The last column, `quality`, is a rating on a scale from 1 to 10 of the wine's determined quality based on the given physicochemical factors."
   ]
  },
  {
   "cell_type": "code",
   "execution_count": null,
   "id": "e68f6a46-fdae-45b8-8570-426725a9eab4",
   "metadata": {
    "tags": []
   },
   "outputs": [],
   "source": [
    "set.seed(420)\n",
    "# Creating the training and testing split of the data\n",
    "wine_split <- initial_split(white_wine_data, prop = .75, strata = quality)\n",
    "wine_train <- training(wine_split)\n",
    "wine_test <- testing(wine_split)"
   ]
  },
  {
   "cell_type": "markdown",
   "id": "e1873180-62e2-47a7-b669-2cf39dfb098a",
   "metadata": {},
   "source": [
    "### 3. Summarizing the Data\n",
    "To summarize our training data, we \n",
    "1. count the number of observations for each quality of wine\n",
    "2. calculate the mean of each predictor for each quality.\n",
    "\n",
    "Note: There is no missing value."
   ]
  },
  {
   "cell_type": "code",
   "execution_count": null,
   "id": "5ec7fe76-6d29-452d-b502-32c9944c83ca",
   "metadata": {
    "tags": []
   },
   "outputs": [],
   "source": [
    "# Count the number of observations\n",
    "wine_qual_counts <- wine_train |>\n",
    "            group_by(quality) |>\n",
    "            summarize(count = n())\n",
    "paste(\"Table 2. Wine Quality Count\")\n",
    "wine_qual_counts"
   ]
  },
  {
   "cell_type": "markdown",
   "id": "95365297-bc5b-4323-b4e1-8dc6639f5f94",
   "metadata": {},
   "source": [
    "In table 2, column `count` represents the number of observation in that `quality`. From the table we can see that there are totally 3672 observations, while only white wines of qualities 3 through 9 are present in the table, and there is a **class imbalance** in the dataset since it has many more counts of samples in classes 5 to 7 than others, which we need to deal with before we doing the actual model."
   ]
  },
  {
   "cell_type": "code",
   "execution_count": null,
   "id": "aea10844-8354-4487-be6a-b5ac24cc8d24",
   "metadata": {
    "tags": []
   },
   "outputs": [],
   "source": [
    "wine_samp_m <- wine_train |>\n",
    "    group_by(quality) |>\n",
    "    summarize(across(everything(), list(mean)))\n",
    "paste(\"Table 3. Predictors Mean\")\n",
    "wine_samp_m"
   ]
  },
  {
   "cell_type": "markdown",
   "id": "8ce331f0-a9b2-4948-a4cd-428b21d144a9",
   "metadata": {},
   "source": [
    "In table 3, column 2-12 represents the mean value for the each variable in each quality. It can help us to do the summarized visualization in the next section as we can use the mean value of variables in each quality to see whether there is a strong relationship between each variable and the quality of wine."
   ]
  },
  {
   "cell_type": "markdown",
   "id": "2e1a590f-e3bd-4802-b5c2-ebbdb7190786",
   "metadata": {},
   "source": [
    "### 4. Visualizing the Data"
   ]
  },
  {
   "cell_type": "code",
   "execution_count": null,
   "id": "ca5fb481-27be-4204-96ef-7acf8cbb75cf",
   "metadata": {
    "tags": []
   },
   "outputs": [],
   "source": [
    "ggplot(wine_samp_m, aes(x= quality, y = density_1)) +\n",
    "    geom_point() +\n",
    "    geom_line() +\n",
    "    labs(y = \"Mean Density\", x = \"Quality\")\n",
    "ggplot(wine_samp_m, aes(x= quality, y = fixed_acidity_1)) +\n",
    "    geom_point() +\n",
    "    geom_line() +\n",
    "    labs(y = \"Mean Fixed Acidity\", x = \"Quality\")\n",
    "ggplot(wine_samp_m, aes(x= quality, y = volatile_acidity_1)) +\n",
    "    geom_point() +\n",
    "    geom_line() +\n",
    "    labs(y = \"Mean Volatile Acidity\", x = \"Quality\")\n",
    "ggplot(wine_samp_m, aes(x= quality, y = citric_acid_1)) +\n",
    "    geom_point() +\n",
    "    geom_line() +\n",
    "    labs(y = \"Mean Citric Acid\", x = \"Quality\")\n",
    "ggplot(wine_samp_m, aes(x= quality, y = residual_sugar_1)) +\n",
    "    geom_point() +\n",
    "    geom_line() +\n",
    "    labs(y = \"Mean Residual Sugar\", x = \"Quality\")\n",
    "ggplot(wine_samp_m, aes(x= quality, y = chlorides_1)) +\n",
    "    geom_point() +\n",
    "    geom_line() +\n",
    "    labs(y = \"Mean Chlorides\", x = \"Quality\")\n",
    "ggplot(wine_samp_m, aes(x= quality, y = free_sulfur_dioxide_1)) +\n",
    "    geom_point() +\n",
    "    geom_line() +\n",
    "    labs(y = \"Mean Free Sulfur dioxide\", x = \"Quality\")\n",
    "ggplot(wine_samp_m, aes(x= quality, y = total_sulfur_dioxide_1)) +\n",
    "    geom_point() +\n",
    "    geom_line() +\n",
    "    labs(y = \"Mean Total Sulfur Dioxide\", x = \"Quality\")\n",
    "ggplot(wine_samp_m, aes(x= quality, y = pH_1)) +\n",
    "    geom_point() +\n",
    "    geom_line() +\n",
    "    labs(y = \"Mean pH\", x = \"Quality\")\n",
    "ggplot(wine_samp_m, aes(x= quality, y = sulphates_1)) +\n",
    "    geom_point() +\n",
    "    geom_line() +\n",
    "    labs(y = \"Mean Sulphates\", x = \"Quality\")\n",
    "ggplot(wine_samp_m, aes(x= quality, y = alcohol_1)) +\n",
    "    geom_point() +\n",
    "    geom_line() +\n",
    "    labs(y = \"Mean Alcohol\", x = \"Quality\")"
   ]
  },
  {
   "cell_type": "markdown",
   "id": "4770048f-9dfc-4a24-bdec-c10885732971",
   "metadata": {},
   "source": [
    "From the visualization, we are not able to see the relationship of each predictors and the quality of wine mainly due to the **class imbalance** that we observed before, so in the next section we try to deal with it before doing the actual data analysis."
   ]
  },
  {
   "cell_type": "markdown",
   "id": "fb869ace-c1cd-43e3-b853-bbc055bc3f1a",
   "metadata": {},
   "source": [
    "### 5. Class Imbalance"
   ]
  },
  {
   "cell_type": "code",
   "execution_count": null,
   "id": "59fa2f66-a6cd-44c0-b549-6b8eff6ef3ab",
   "metadata": {},
   "outputs": [],
   "source": []
  }
 ],
 "metadata": {
  "kernelspec": {
   "display_name": "R",
   "language": "R",
   "name": "ir"
  },
  "language_info": {
   "codemirror_mode": "r",
   "file_extension": ".r",
   "mimetype": "text/x-r-source",
   "name": "R",
   "pygments_lexer": "r",
   "version": "4.2.2"
  }
 },
 "nbformat": 4,
 "nbformat_minor": 5
}
